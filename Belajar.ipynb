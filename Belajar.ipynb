{
  "nbformat": 4,
  "nbformat_minor": 0,
  "metadata": {
    "colab": {
      "provenance": [],
      "authorship_tag": "ABX9TyNwVQfIk7cV2eSysEcEHMmA",
      "include_colab_link": true
    },
    "kernelspec": {
      "name": "python3",
      "display_name": "Python 3"
    },
    "language_info": {
      "name": "python"
    }
  },
  "cells": [
    {
      "cell_type": "markdown",
      "metadata": {
        "id": "view-in-github",
        "colab_type": "text"
      },
      "source": [
        "<a href=\"https://colab.research.google.com/github/halonoer/Belajar_JavaScript/blob/main/Belajar.ipynb\" target=\"_parent\"><img src=\"https://colab.research.google.com/assets/colab-badge.svg\" alt=\"Open In Colab\"/></a>"
      ]
    },
    {
      "cell_type": "markdown",
      "source": [
        "# This *is* **heading**\n"
      ],
      "metadata": {
        "id": "vVRUaP8FWTqB"
      }
    },
    {
      "cell_type": "markdown",
      "source": [
        "[Google Search](https://www.google.com)"
      ],
      "metadata": {
        "id": "6ETuvfySXDl1"
      }
    },
    {
      "cell_type": "markdown",
      "source": [
        "Hello\n",
        "1.   First\n",
        "2.   Second\n",
        "---\n",
        "haha\n",
        "*   First\n",
        "*   Second\n",
        "---\n",
        "man\n",
        "> first\n",
        "\n",
        "> Second\n",
        "---\n",
        "\n",
        "$ ax^2 + bx + c = 0 $\n",
        "\n",
        "---\n",
        "\n",
        "\n",
        "$x1 = \\frac{-b + \\sqrt(b^2) - 4ac }{4ac} $\n",
        "\n"
      ],
      "metadata": {
        "id": "dpZ-rffQXkC8"
      }
    },
    {
      "cell_type": "code",
      "source": [],
      "metadata": {
        "id": "b2gbtKmzZO6B"
      },
      "execution_count": null,
      "outputs": []
    }
  ]
}